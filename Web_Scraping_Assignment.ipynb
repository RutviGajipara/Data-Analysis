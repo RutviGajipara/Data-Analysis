{
  "cells": [
    {
      "cell_type": "markdown",
      "metadata": {
        "id": "IwfD8XHy2XKs"
      },
      "source": [
        "<p style=\"text-align:center\">\n",
        "    <a href=\"https://skills.network/?utm_medium=Exinfluencer&utm_source=Exinfluencer&utm_content=000026UJ&utm_term=10006555&utm_id=NA-SkillsNetwork-Channel-SkillsNetworkCoursesIBMDA0321ENSkillsNetwork928-2022-01-01\" target=\"_blank\">\n",
        "    <img src=\"https://cf-courses-data.s3.us.cloud-object-storage.appdomain.cloud/assets/logos/SN_web_lightmode.png\" width=\"200\" alt=\"Skills Network Logo\"  />\n",
        "    </a>\n",
        "</p>\n"
      ]
    },
    {
      "cell_type": "markdown",
      "metadata": {
        "id": "H0pznPF_2XKv"
      },
      "source": [
        "# **Hands-on Lab : Web Scraping**\n"
      ]
    },
    {
      "cell_type": "markdown",
      "metadata": {
        "id": "ZEsu_8AV2XKw"
      },
      "source": [
        "Estimated time needed: **30 to 45** minutes\n"
      ]
    },
    {
      "cell_type": "markdown",
      "metadata": {
        "id": "m3HECYZP2XKw"
      },
      "source": [
        "## Objectives\n"
      ]
    },
    {
      "cell_type": "markdown",
      "metadata": {
        "id": "UmvRgKpl2XKw"
      },
      "source": [
        "In this lab you will perform the following:\n"
      ]
    },
    {
      "cell_type": "markdown",
      "metadata": {
        "id": "OfeYrMML2XKx"
      },
      "source": [
        "* Extract information from a given web site\n",
        "* Write the scraped data into a csv file.\n"
      ]
    },
    {
      "cell_type": "markdown",
      "metadata": {
        "id": "LxNNdJTM2XKx"
      },
      "source": [
        "## Extract information from the given web site\n",
        "You will extract the data from the below web site: <br>\n"
      ]
    },
    {
      "cell_type": "code",
      "execution_count": 1,
      "metadata": {
        "id": "mxrFjb2y2XKx"
      },
      "outputs": [],
      "source": [
        "#this url contains the data you need to scrape\n",
        "url = \"https://cf-courses-data.s3.us.cloud-object-storage.appdomain.cloud/IBM-DA0321EN-SkillsNetwork/labs/datasets/Programming_Languages.html\""
      ]
    },
    {
      "cell_type": "markdown",
      "metadata": {
        "id": "grgBel3d2XKy"
      },
      "source": [
        "The data you need to scrape is the **name of the programming language** and **average annual salary**.<br> It is a good idea to open the url in your web broswer and study the contents of the web page before you start to scrape.\n"
      ]
    },
    {
      "cell_type": "markdown",
      "metadata": {
        "id": "9iC7d1yx2XKy"
      },
      "source": [
        "Import the required libraries\n"
      ]
    },
    {
      "cell_type": "code",
      "execution_count": 2,
      "metadata": {
        "id": "np6I_Jbw2XKz"
      },
      "outputs": [],
      "source": [
        "from bs4 import BeautifulSoup\n",
        "import requests"
      ]
    },
    {
      "cell_type": "markdown",
      "metadata": {
        "id": "JRQ5EuKc2XKz"
      },
      "source": [
        "Download the webpage at the url\n"
      ]
    },
    {
      "cell_type": "code",
      "execution_count": 3,
      "metadata": {
        "id": "OwGIVns32XKz"
      },
      "outputs": [],
      "source": [
        "data = requests.get(url).text"
      ]
    },
    {
      "cell_type": "markdown",
      "metadata": {
        "id": "EzgGYi-c2XKz"
      },
      "source": [
        "Create a soup object\n"
      ]
    },
    {
      "cell_type": "code",
      "execution_count": 4,
      "metadata": {
        "id": "12vPgW2q2XK0"
      },
      "outputs": [],
      "source": [
        "soup = BeautifulSoup(data,\"html5lib\")"
      ]
    },
    {
      "cell_type": "code",
      "source": [
        "table = soup.find('table')"
      ],
      "metadata": {
        "id": "5o_Y_ZPz5C7c"
      },
      "execution_count": 9,
      "outputs": []
    },
    {
      "cell_type": "markdown",
      "metadata": {
        "id": "KNXjgo6_2XK0"
      },
      "source": [
        "Scrape the `Language name` and `annual average salary`.\n"
      ]
    },
    {
      "cell_type": "code",
      "execution_count": 10,
      "metadata": {
        "colab": {
          "base_uri": "https://localhost:8080/"
        },
        "id": "m51s1Klh2XK0",
        "outputId": "af71fe8f-e5e5-46f5-fdf3-a650d6ccd195"
      },
      "outputs": [
        {
          "output_type": "stream",
          "name": "stdout",
          "text": [
            "[<td>No.</td>, <td>Language</td>, <td>Created By</td>, <td>Average Annual Salary</td>, <td>Learning Difficulty</td>]\n",
            "[<td>1</td>, <td>Python</td>, <td>Guido van Rossum</td>, <td>$114,383</td>, <td>Easy</td>]\n",
            "[<td>2</td>, <td>Java</td>, <td>James Gosling</td>, <td>$101,013</td>, <td>Easy</td>]\n",
            "[<td>3</td>, <td>R</td>, <td>Robert Gentleman, Ross Ihaka</td>, <td>$92,037</td>, <td>Hard</td>]\n",
            "[<td>4</td>, <td>Javascript</td>, <td>Netscape</td>, <td>$110,981</td>, <td>Easy</td>]\n",
            "[<td>5</td>, <td>Swift</td>, <td>Apple</td>, <td>$130,801</td>, <td>Easy</td>]\n",
            "[<td>6</td>, <td>C++</td>, <td>Bjarne Stroustrup</td>, <td>$113,865</td>, <td>Hard</td>]\n",
            "[<td>7</td>, <td>C#</td>, <td>Microsoft</td>, <td>$88,726</td>, <td>Hard</td>]\n",
            "[<td>8</td>, <td>PHP</td>, <td>Rasmus Lerdorf</td>, <td>$84,727</td>, <td>Easy</td>]\n",
            "[<td>9</td>, <td>SQL</td>, <td>Donald D. Chamberlin, Raymond F. Boyce.</td>, <td>$84,793</td>, <td>Easy</td>]\n",
            "[<td>10</td>, <td>Go</td>, <td>Robert Griesemer, Ken Thompson, Rob Pike.</td>, <td>$94,082</td>, <td>Difficult</td>]\n"
          ]
        }
      ],
      "source": [
        "for row in table.find_all('tr'):\n",
        "    # Get all columns in each row.\n",
        "    cols = row.find_all('td') # in html a column is represented by the tag <td>\n",
        "    #color_name = cols[2].getText() # store the value in column 3 as color_name\n",
        "   # color_code = cols[3].getText() # store the value in column 4 as color_code\n",
        "    print(cols)\n"
      ]
    },
    {
      "cell_type": "code",
      "source": [
        "avrerage_salary = cols[3].getText()\n",
        "print(avrerage_salary)"
      ],
      "metadata": {
        "colab": {
          "base_uri": "https://localhost:8080/"
        },
        "id": "LQO8zJkg5MYj",
        "outputId": "2aabc56d-6867-4f18-d7ce-0e5d7a51b8c3"
      },
      "execution_count": 15,
      "outputs": [
        {
          "output_type": "stream",
          "name": "stdout",
          "text": [
            "$94,082\n"
          ]
        }
      ]
    },
    {
      "cell_type": "code",
      "source": [
        "language_name = cols[1].getText()\n",
        "print(language_name)\n"
      ],
      "metadata": {
        "colab": {
          "base_uri": "https://localhost:8080/"
        },
        "id": "nWNoxwAv6Adt",
        "outputId": "e1f61256-eade-4508-df48-fd9900da9d23"
      },
      "execution_count": 22,
      "outputs": [
        {
          "output_type": "stream",
          "name": "stdout",
          "text": [
            "Go\n"
          ]
        }
      ]
    },
    {
      "cell_type": "markdown",
      "metadata": {
        "id": "hyw9yTJn2XK0"
      },
      "source": [
        "[link text](https://)Save the scrapped data into a file named *popular-languages.csv*\n"
      ]
    },
    {
      "cell_type": "code",
      "execution_count": 29,
      "metadata": {
        "colab": {
          "base_uri": "https://localhost:8080/"
        },
        "id": "dd1UBwfQ2XK0",
        "outputId": "63865662-e1bf-4300-ce0e-be5d72437082"
      },
      "outputs": [
        {
          "output_type": "stream",
          "name": "stdout",
          "text": [
            "Data saved to popular-languages.csv\n"
          ]
        }
      ],
      "source": [
        "import csv\n",
        "with open('popular-languages.csv', mode='w', newline='', encoding='utf-8') as file:\n",
        "    writer = csv.writer(file)\n",
        "    writer.writerows(data)\n",
        "print(\"Data saved to popular-languages.csv\")"
      ]
    },
    {
      "cell_type": "markdown",
      "metadata": {
        "id": "djtHROWH2XK0"
      },
      "source": [
        "## Authors\n"
      ]
    },
    {
      "cell_type": "markdown",
      "metadata": {
        "id": "QRgHrN7I2XK1"
      },
      "source": [
        "Ramesh Sannareddy\n"
      ]
    },
    {
      "cell_type": "markdown",
      "metadata": {
        "id": "hUJWMMUT2XK1"
      },
      "source": [
        "### Other Contributors\n"
      ]
    },
    {
      "cell_type": "markdown",
      "metadata": {
        "id": "9PqI0w8R2XK1"
      },
      "source": [
        "Rav Ahuja\n"
      ]
    },
    {
      "cell_type": "markdown",
      "metadata": {
        "id": "z6HyFQDC2XK1"
      },
      "source": [
        "## Change Log\n"
      ]
    },
    {
      "cell_type": "markdown",
      "metadata": {
        "id": "0O_d1Jg_2XK1"
      },
      "source": [
        "|  Date (YYYY-MM-DD) |  Version | Changed By  |  Change Description |\n",
        "|---|---|---|---|\n",
        "| 2020-10-17  | 0.1  | Ramesh Sannareddy  |  Created initial version of the lab |\n"
      ]
    },
    {
      "cell_type": "markdown",
      "metadata": {
        "id": "5IKXTMpu2XK1"
      },
      "source": [
        " Copyright &copy; 2020 IBM Corporation. This notebook and its source code are released under the terms of the [MIT License](https://cognitiveclass.ai/mit-license/?utm_medium=Exinfluencer&utm_source=Exinfluencer&utm_content=000026UJ&utm_term=10006555&utm_id=NA-SkillsNetwork-Channel-SkillsNetworkCoursesIBMDA0321ENSkillsNetwork928-2022-01-01).\n"
      ]
    }
  ],
  "metadata": {
    "kernelspec": {
      "display_name": "Python",
      "language": "python",
      "name": "conda-env-python-py"
    },
    "language_info": {
      "name": ""
    },
    "colab": {
      "provenance": []
    }
  },
  "nbformat": 4,
  "nbformat_minor": 0
}